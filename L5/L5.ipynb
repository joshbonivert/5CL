{
 "cells": [
  {
   "cell_type": "code",
   "execution_count": 3,
   "id": "e80f9359-0e6d-4a34-aaa3-6eba9b55b97a",
   "metadata": {},
   "outputs": [],
   "source": [
    "import numpy as np\n",
    "import pandas as pd\n",
    "import scipy.optimize as opt\n",
    "import matplotlib\n",
    "import matplotlib.pyplot as plt\n",
    "from uncertainties import ufloat\n",
    "from uncertainties import unumpy\n",
    "%matplotlib inline\n"
   ]
  },
  {
   "cell_type": "code",
   "execution_count": 4,
   "id": "bde2e523-83a3-4d2e-8bd7-f48f9a256e6d",
   "metadata": {},
   "outputs": [],
   "source": [
    "def angle_to_wavelength(theta, slit_dist):\n",
    "    return unumpy.sin(theta) * slit_dist\n",
    "\n",
    "def get_angle(L, dist):\n",
    "    return unumpy.arctan(dist / L)\n",
    "\n",
    "def uflout_set_uncertainty(data, err):\n",
    "    uflout_data = []\n",
    "    for pt in data:\n",
    "        uflout_data.append(ufloat(pt, err))\n",
    "    return np.array(uflout_data)\n"
   ]
  },
  {
   "cell_type": "code",
   "execution_count": 25,
   "id": "bf0f91e6-091e-4bb1-bf97-cb0163b0c1d3",
   "metadata": {},
   "outputs": [],
   "source": [
    "def wave2rgb(wave):\n",
    "    # This is a port of javascript code from  http://stackoverflow.com/a/14917481\n",
    "    gamma = 0.8\n",
    "    intensity_max = 1\n",
    " \n",
    "    if wave < 380:\n",
    "        red, green, blue = 0, 0, 0\n",
    "    elif wave < 440:\n",
    "        red = -(wave - 440) / (440 - 380)\n",
    "        green, blue = 0, 1\n",
    "    elif wave < 490:\n",
    "        red = 0\n",
    "        green = (wave - 440) / (490 - 440)\n",
    "        blue = 1\n",
    "    elif wave < 510:\n",
    "        red, green = 0, 1\n",
    "        blue = -(wave - 510) / (510 - 490)\n",
    "    elif wave < 580:\n",
    "        red = (wave - 510) / (580 - 510)\n",
    "        green, blue = 1, 0\n",
    "    elif wave < 645:\n",
    "        red = 1\n",
    "        green = -(wave - 645) / (645 - 580)\n",
    "        blue = 0\n",
    "    elif wave <= 780:\n",
    "        red, green, blue = 1, 0, 0\n",
    "    else:\n",
    "        red, green, blue = 0, 0, 0\n",
    " \n",
    "    # let the intensity fall of near the vision limits\n",
    "    if wave < 380:\n",
    "        factor = 0\n",
    "    elif wave < 420:\n",
    "        factor = 0.3 + 0.7 * (wave - 380) / (420 - 380)\n",
    "    elif wave < 700:\n",
    "        factor = 1\n",
    "    elif wave <= 780:\n",
    "        factor = 0.3 + 0.7 * (780 - wave) / (780 - 700)\n",
    "    else:\n",
    "        factor = 0\n",
    " \n",
    "    def f(c):\n",
    "        if c == 0:\n",
    "            return 0\n",
    "        else:\n",
    "            return intensity_max * pow (c * factor, gamma)\n",
    " \n",
    "    return (f(red), f(green), f(blue))\n"
   ]
  },
  {
   "cell_type": "code",
   "execution_count": 6,
   "id": "93764764-ac11-4439-9bf1-dadfed3c44f6",
   "metadata": {},
   "outputs": [],
   "source": [
    "dist = np.array([10.83, 11.9, 12.51, 12.75, 14.47, 14.51, 15.14, 15.48, 16.02, 17.55])\n",
    "dist_pm = uflout_set_uncertainty(dist, .07)\n",
    "L = ufloat(50, .1)\n",
    "d = ufloat(2062.5e-9, 50e-9)\n",
    "\n",
    "data = angle_to_wavelength(get_angle(L, dist_pm), d)"
   ]
  },
  {
   "cell_type": "code",
   "execution_count": 86,
   "id": "3cb11ed4-940b-4b02-b5e7-84aa5085fd31",
   "metadata": {},
   "outputs": [],
   "source": [
    "dist = np.array([10.05, 10.47, 12.32, 12.70, 13.85, 14.13, 15.84, 15.97])\n",
    "dist_pm = uflout_set_uncertainty(dist, .07)\n",
    "L = ufloat(50, .1)\n",
    "d = ufloat(2062.5e-9, 50e-9)\n",
    "\n",
    "data = angle_to_wavelength(get_angle(L, dist_pm), d)\n"
   ]
  },
  {
   "cell_type": "code",
   "execution_count": null,
   "id": "0a46dabc-aedb-474c-a0cb-cfcdc02df7be",
   "metadata": {},
   "outputs": [],
   "source": [
    "dist = np.array([13.62, 14.86, 16.12])\n",
    "dist_pm = uflout_set_uncertainty(dist, .07)\n",
    "L = ufloat(50, .1)\n",
    "d = ufloat(2062.5e-9, 50e-9)\n",
    "\n",
    "data = angle_to_wavelength(get_angle(L, dist_pm), d)\n",
    "\n"
   ]
  },
  {
   "cell_type": "code",
   "execution_count": 81,
   "id": "fee69d68-94e4-42d5-a5ef-55a78fbd4686",
   "metadata": {},
   "outputs": [
    {
     "data": {
      "text/plain": [
       "0.02424830261881668"
      ]
     },
     "execution_count": 81,
     "metadata": {},
     "output_type": "execute_result"
    }
   ],
   "source": [
    "50/2062"
   ]
  },
  {
   "cell_type": "code",
   "execution_count": 89,
   "id": "40735fe0-49fb-440f-8509-7038ff7d369e",
   "metadata": {},
   "outputs": [
    {
     "name": "stdout",
     "output_type": "stream",
     "text": [
      "(4.02±0.10)×10⁻⁷\n",
      "(7.23±0.18)×10⁻⁷\n"
     ]
    }
   ],
   "source": [
    "dist = np.array([9.925, 18.725])\n",
    "dist_pm = uflout_set_uncertainty(dist, .07)\n",
    "L = ufloat(50, .1)\n",
    "d = ufloat(2062.5e-9, 50e-9)\n",
    "\n",
    "data = angle_to_wavelength(get_angle(L, dist_pm), d)\n",
    "for point in data:\n",
    "    print(u'{:.2eP}'.format(point))"
   ]
  },
  {
   "cell_type": "code",
   "execution_count": 79,
   "id": "f0dc8aa6-a9d6-4929-bc22-a1dc7af092d3",
   "metadata": {},
   "outputs": [],
   "source": [
    "dist = np.array([15.17, 16.00, 16.03, 16.88])\n",
    "dist_pm = uflout_set_uncertainty(dist, .07)\n",
    "L = ufloat(50, .1)\n",
    "d = ufloat(2062.5e-9, 50e-9)\n",
    "\n",
    "data = angle_to_wavelength(get_angle(L, dist_pm), d)"
   ]
  },
  {
   "cell_type": "code",
   "execution_count": 87,
   "id": "475ad1fc-d806-47bc-b2c7-1341acb26ca5",
   "metadata": {},
   "outputs": [
    {
     "name": "stdout",
     "output_type": "stream",
     "text": [
      "(4.06±0.10)×10⁻⁷\n",
      "(4.23±0.11)×10⁻⁷\n",
      "(4.93±0.12)×10⁻⁷\n",
      "(5.08±0.13)×10⁻⁷\n",
      "(5.51±0.14)×10⁻⁷\n",
      "(5.61±0.14)×10⁻⁷\n",
      "(6.23±0.15)×10⁻⁷\n",
      "(6.28±0.15)×10⁻⁷\n"
     ]
    }
   ],
   "source": [
    "for point in data:\n",
    "    print(u'{:.2eP}'.format(point))"
   ]
  },
  {
   "cell_type": "code",
   "execution_count": 34,
   "id": "8ad0272e-1e87-4a3e-97ab-7244ca94d9ae",
   "metadata": {},
   "outputs": [
    {
     "name": "stdout",
     "output_type": "stream",
     "text": [
      "(4.22±0.11)×10⁻⁷\n",
      "(4.40±0.11)×10⁻⁷\n",
      "(4.96±0.13)×10⁻⁷\n",
      "(6.70±0.17)×10⁻⁷\n"
     ]
    }
   ],
   "source": [
    "dist = np.array([10.44, 10.93, 12.40, 17.18])\n",
    "dist_pm = uflout_set_uncertainty(dist, .1)\n",
    "L = ufloat(50, .1)\n",
    "d = ufloat(2062.5e-9, 50e-9)\n",
    "\n",
    "data = angle_to_wavelength(get_angle(L, dist_pm), d)\n",
    "\n",
    "for point in data:\n",
    "    print(u'{:.2eP}'.format(point))\n"
   ]
  },
  {
   "cell_type": "code",
   "execution_count": 11,
   "id": "c2e6be9f-cff3-473b-93a3-18e6772b5288",
   "metadata": {},
   "outputs": [],
   "source": [
    "pres_lines_neon = np.array([585, 603, 607, 614, 616, 622, 627, 638, 640, 651, 660, 693])\n",
    "strong_lines_argon = np.array([522, 550, 556, 561, 565, 589, 591, 603, 604, 606, 611, 617, 624, 638, 642])"
   ]
  },
  {
   "cell_type": "code",
   "execution_count": 63,
   "id": "4c6a2836-0902-425e-82dd-e9767869dec1",
   "metadata": {},
   "outputs": [],
   "source": [
    "# f, axarr = plt.subplots(2, sharex=True)\n",
    "# # plt.xlim(x[0],x[-1])\n",
    "# for wvl in pres_lines_neon:\n",
    "#     axarr[0].axvline(wvl, c=wave2rgb(wvl))\n",
    "# axarr[0].axes.yaxis.set_ticklabels([])\n",
    "# for wvl in [599, 629, 630, 660]:\n",
    "#     axarr[1].axvline(wvl, c=wave2rgb(wvl))\n",
    "# axarr[1].axes.yaxis.set_ticklabels([])\n",
    "# # axarr[0].plot(x, y1,'r')\n",
    "# # axarr[0].set_title(\"Exp 1: \")\n",
    "# # axarr[0].set_ylabel('Force (N)')\n",
    "# # axarr[1].plot(x, y2,'b')\n",
    "# # axarr[1].set_xlabel('time (s)')\n",
    "# # axarr[1].set_ylabel('Position (m)')\n",
    "# plt.show()"
   ]
  },
  {
   "cell_type": "code",
   "execution_count": 84,
   "id": "b3115941-b0f8-49cf-b928-18a1b1ac86d4",
   "metadata": {},
   "outputs": [
    {
     "data": {
      "image/png": "[encoded data removed]",
      "text/plain": [
       "<Figure size 360x72 with 1 Axes>"
      ]
     },
     "metadata": {
      "needs_background": "light"
     },
     "output_type": "display_data"
    },
    {
     "data": {
      "image/png": "[encoded data removed]",
      "text/plain": [
       "<Figure size 360x72 with 1 Axes>"
      ]
     },
     "metadata": {
      "needs_background": "light"
     },
     "output_type": "display_data"
    }
   ],
   "source": [
    "plt.figure(figsize=(5, 1))\n",
    "for wvl in pres_lines_neon:\n",
    "    plt.axvline(wvl, c=wave2rgb(wvl))\n",
    "plt.title(\"Exp 3: Emission Lines for Gas B \\n Neon Expected Lines Vs. Experimental Distinct Lines\")\n",
    "\n",
    "plt.figure(figsize=(5, 1))\n",
    "for wvl in [599, 629, 630, 660]:\n",
    "    plt.axvline(wvl, c=wave2rgb(wvl))\n"
   ]
  },
  {
   "cell_type": "code",
   "execution_count": 85,
   "id": "9490b681-2ca2-4c64-85ed-1bbbb678cb95",
   "metadata": {},
   "outputs": [
    {
     "data": {
      "image/png": "[encoded data removed]",
      "text/plain": [
       "<Figure size 360x72 with 1 Axes>"
      ]
     },
     "metadata": {
      "needs_background": "light"
     },
     "output_type": "display_data"
    },
    {
     "data": {
      "image/png": "[encoded data removed]",
      "text/plain": [
       "<Figure size 360x72 with 1 Axes>"
      ]
     },
     "metadata": {
      "needs_background": "light"
     },
     "output_type": "display_data"
    }
   ],
   "source": [
    "plt.figure(figsize=(5, 1))\n",
    "for wvl in strong_lines_argon:\n",
    "    plt.axvline(wvl, c=wave2rgb(wvl))\n",
    "# plt.yticks([],\"\")\n",
    "plt.title(\"Exp 3: Emission Lines for Gas C \\n Argon Expected Lines Vs. Experimental Distinct Lines\")\n",
    "\n",
    "\n",
    "plt.figure(figsize=(5, 1))\n",
    "for wvl in [542, 588, 633]:\n",
    "    plt.axvline(wvl, c=wave2rgb(wvl))\n",
    "# plt.yticks([],\"\")\n"
   ]
  },
  {
   "cell_type": "code",
   "execution_count": null,
   "id": "bd69312c-f67e-40ef-adf7-def68a0c6647",
   "metadata": {},
   "outputs": [],
   "source": [
    "406±10\n",
    "423±11\n",
    "493±12\n",
    "508±13\n",
    "551±14\n",
    "561±14\n",
    "623±15\n",
    "628±15"
   ]
  },
  {
   "cell_type": "code",
   "execution_count": 90,
   "id": "0c242b34-1dbf-4ae8-85e9-9e64ff2a974a",
   "metadata": {},
   "outputs": [
    {
     "data": {
      "text/plain": [
       "15.305000000000001"
      ]
     },
     "execution_count": 90,
     "metadata": {},
     "output_type": "execute_result"
    }
   ],
   "source": [
    "np.mean([15.38, 15.40, 15.13, 15.31])"
   ]
  },
  {
   "cell_type": "code",
   "execution_count": 91,
   "id": "39ec609f-0eb9-4435-8b72-3974a3f213fb",
   "metadata": {},
   "outputs": [
    {
     "data": {
      "text/plain": [
       "0.10641898326896372"
      ]
     },
     "execution_count": 91,
     "metadata": {},
     "output_type": "execute_result"
    }
   ],
   "source": [
    "np.std([15.38, 15.40, 15.13, 15.31])"
   ]
  },
  {
   "cell_type": "code",
   "execution_count": 93,
   "id": "08415a41-8c27-4074-b496-9b6902da9274",
   "metadata": {},
   "outputs": [
    {
     "data": {
      "text/plain": [
       "0.05320949163448186"
      ]
     },
     "execution_count": 93,
     "metadata": {},
     "output_type": "execute_result"
    }
   ],
   "source": [
    "np.std([15.38, 15.40, 15.13, 15.31]) / np.sqrt(len([15.38, 15.40, 15.13, 15.31]))"
   ]
  },
  {
   "cell_type": "code",
   "execution_count": 120,
   "id": "3f8ad83a-1d50-493a-829d-1fe25632dbf8",
   "metadata": {},
   "outputs": [
    {
     "name": "stdout",
     "output_type": "stream",
     "text": [
      "(6.70±0.16)×10⁻⁷\n",
      "(4.96±0.12)×10⁻⁷\n",
      "(4.40±0.11)×10⁻⁷\n",
      "(4.22±0.11)×10⁻⁷\n"
     ]
    }
   ],
   "source": [
    "dist = np.array([ 17.18, 12.40, 10.93, 10.44])\n",
    "dist_pm = uflout_set_uncertainty(dist, .07)\n",
    "L = ufloat(50, .1)\n",
    "d = ufloat(2062.5e-9, 50e-9)\n",
    "\n",
    "data = angle_to_wavelength(get_angle(L, dist_pm), d)\n",
    "for point in data:\n",
    "    print(u'{:.2eP}'.format(point))"
   ]
  },
  {
   "cell_type": "code",
   "execution_count": 132,
   "id": "95726d96-ec41-44c0-aee0-d9f80fa683eb",
   "metadata": {},
   "outputs": [],
   "source": [
    "h = 6.626e-34\n",
    "c = 299792458\n",
    "\n",
    "def model(x, R):\n",
    "    return R * (x - 1/4)\n"
   ]
  },
  {
   "cell_type": "code",
   "execution_count": 133,
   "id": "57fa5909-2b1a-4fe2-971b-9f662a09f331",
   "metadata": {},
   "outputs": [],
   "source": [
    "n = np.array([3,4,5,6])\n",
    "x = 1 / n ** 2\n",
    "y_pm = 1 / data\n",
    "y = unumpy.nominal_values(y_pm)\n",
    "y_err = unumpy.std_devs(y_pm)"
   ]
  },
  {
   "cell_type": "code",
   "execution_count": 140,
   "id": "298c6f98-ff51-4a92-bec4-5e18921db298",
   "metadata": {},
   "outputs": [
    {
     "name": "stdout",
     "output_type": "stream",
     "text": [
      "(-1.07±0.01)×10⁷\n"
     ]
    }
   ],
   "source": [
    "# Does the fit with adjusted xerr\n",
    "init_params=[0]\n",
    "lin_opt, lin_cov = opt.curve_fit(model, x, y, sigma=y_err, absolute_sigma=True, p0=init_params)\n",
    "\n",
    "#Weighted Best Fit Values\n",
    "R = lin_opt\n",
    "Rerr = np.sqrt(np.diag(lin_cov))\n",
    "\n",
    "Rpm = ufloat(R, Rerr)\n",
    "\n",
    "print(u'{:.2eP}'.format(Rpm))"
   ]
  },
  {
   "cell_type": "code",
   "execution_count": 139,
   "id": "34adb16b-1d1c-445e-abb0-f7d47edd06f1",
   "metadata": {},
   "outputs": [
    {
     "data": {
      "image/png": "[encoded data removed]",
      "text/plain": [
       "<Figure size 640x640 with 1 Axes>"
      ]
     },
     "metadata": {},
     "output_type": "display_data"
    }
   ],
   "source": [
    "fig1=plt.figure(figsize=(8, 8), dpi= 80, facecolor='w', edgecolor='k')\n",
    "plt.rcParams.update({'font.size': '12'})\n",
    "\n",
    "plt.errorbar(x, y, yerr=y_err, fmt='o', label=\"data with error bar\")\n",
    "x_space = np.linspace(x[0],x[-1])\n",
    "plt.plot(x_space, model(x_space, R), label='fit, F=-Kx (+c)', color='tab:orange')\n",
    "\n",
    "plt.title(\"Exp 2: Determination of Rydberg Constant \\n Linearized\")\n",
    "plt.xlabel(r\"$1/\\lambda$\")\n",
    "plt.ylabel(r\"$1/n_i^2$\")\n",
    "\n",
    "plt.text(.09, 2.3e6, r\"$y=R(x-\\frac{1}{4})$\")\n",
    "# plt.text(.14,-.7, \"c = %5.4f \\u00b1 %5.4f $N$\" % (b, db))\n",
    "# plt.xlim(0,.257)\n",
    "# plt.ylim(-3.7,0)\n",
    "plt.legend()\n",
    "plt.show()"
   ]
  },
  {
   "cell_type": "code",
   "execution_count": null,
   "id": "2ffdae0a-19ac-4c9c-9f7b-9889601a75db",
   "metadata": {},
   "outputs": [],
   "source": []
  },
  {
   "cell_type": "code",
   "execution_count": null,
   "id": "80f6bb5d-5dd1-48d2-ab9e-b7b1b9ced6e9",
   "metadata": {},
   "outputs": [],
   "source": []
  }
 ],
 "metadata": {
  "kernelspec": {
   "display_name": "Python 3 (ipykernel)",
   "language": "python",
   "name": "python3"
  },
  "language_info": {
   "codemirror_mode": {
    "name": "ipython",
    "version": 3
   },
   "file_extension": ".py",
   "mimetype": "text/x-python",
   "name": "python",
   "nbconvert_exporter": "python",
   "pygments_lexer": "ipython3",
   "version": "3.9.7"
  }
 },
 "nbformat": 4,
 "nbformat_minor": 5
}
